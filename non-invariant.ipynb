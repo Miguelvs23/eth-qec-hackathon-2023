{
 "cells": [
  {
   "cell_type": "code",
   "execution_count": 1,
   "id": "dd464efe",
   "metadata": {},
   "outputs": [],
   "source": [
    "def get_winner(board):\n",
    "        # Check the board for any winning combinations\n",
    "    winning_combinations = [\n",
    "        # Rows\n",
    "        (0, 1, 2),\n",
    "        (3, 4, 5),\n",
    "        (6, 7, 8),\n",
    "        # Columns\n",
    "        (0, 3, 6),\n",
    "        (1, 4, 7),\n",
    "        (2, 5, 8),\n",
    "        # Diagonals\n",
    "        (0, 4, 8),\n",
    "        (2, 4, 6),\n",
    "    ]\n",
    "    \n",
    "    x_wins = False\n",
    "    o_wins = False\n",
    "    \n",
    "    for combo in winning_combinations:\n",
    "        if board[combo[0]] == board[combo[1]] == board[combo[2]] and board[combo[0]] != '':\n",
    "            if board[combo[0]] == 'x':\n",
    "                return [0,0,1]\n",
    "            else:\n",
    "                return [1,0,0]\n",
    "    return [0,1,0]\n",
    "    \n",
    "\n",
    "def is_valid_tic_tac_toe(board):\n",
    "    # Check that the board has exactly 9 elements\n",
    "    if len(board) != 9:\n",
    "        return False\n",
    "    \n",
    "    # Count the number of 'x' and 'o' on the board\n",
    "    count_x = board.count('x')\n",
    "    count_o = board.count('o')\n",
    "    \n",
    "    # Check that the difference in count between 'x' and 'o' is 0 or 1\n",
    "    if abs(count_x - count_o) > 1:\n",
    "        return False\n",
    "    \n",
    "    # Check the board for any winning combinations\n",
    "    winning_combinations = [\n",
    "        # Rows\n",
    "        (0, 1, 2),\n",
    "        (3, 4, 5),\n",
    "        (6, 7, 8),\n",
    "        # Columns\n",
    "        (0, 3, 6),\n",
    "        (1, 4, 7),\n",
    "        (2, 5, 8),\n",
    "        # Diagonals\n",
    "        (0, 4, 8),\n",
    "        (2, 4, 6),\n",
    "    ]\n",
    "    \n",
    "    x_wins = False\n",
    "    o_wins = False\n",
    "    \n",
    "    for combo in winning_combinations:\n",
    "        if board[combo[0]] == board[combo[1]] == board[combo[2]] and board[combo[0]] != '':\n",
    "            if board[combo[0]] == 'x':\n",
    "                x_wins = True\n",
    "            else:\n",
    "                o_wins = True\n",
    "    \n",
    "    # Check if both 'x' and 'o' won or if neither won\n",
    "    if x_wins and o_wins or (not x_wins and not o_wins):\n",
    "        return False\n",
    "    \n",
    "    # Check that the board is a valid final board configuration\n",
    "    if (x_wins and count_x != count_o + 1) or (o_wins and count_x != count_o):\n",
    "        return False\n",
    "    # All checks have passed, so the board is valid\n",
    "    return True\n",
    "  "
   ]
  },
  {
   "cell_type": "code",
   "execution_count": 2,
   "id": "b48fe15d",
   "metadata": {},
   "outputs": [],
   "source": [
    "def generate_tic_tac_toe_configs():\n",
    "    valid_configs = []\n",
    "    winners = []\n",
    "    \n",
    "    # Generate all possible configurations of the board\n",
    "    for i in range(3**9):\n",
    "        board = []\n",
    "        for j in range(9):\n",
    "            symbol = ''\n",
    "            if i % 3 == 0:\n",
    "                symbol = 'x'\n",
    "            elif i % 3 == 1:\n",
    "                symbol = 'o'\n",
    "            board.append(symbol)\n",
    "            i //= 3\n",
    "        \n",
    "        # Check if the configuration is valid\n",
    "        if is_valid_tic_tac_toe(board):\n",
    "            valid_configs.append(board)\n",
    "            winners.append(get_winner(board))\n",
    "    \n",
    "    return valid_configs, winners"
   ]
  },
  {
   "cell_type": "code",
   "execution_count": 3,
   "id": "aae1e82f",
   "metadata": {},
   "outputs": [
    {
     "name": "stdout",
     "output_type": "stream",
     "text": [
      "boards:  [['o', 'x', 'o', 'o', 'o', 'x', 'x', 'x', 'x'], ['x', 'o', 'o', 'o', 'o', 'x', 'x', 'x', 'x'], ['', '', 'o', 'o', 'o', 'x', 'x', 'x', 'x'], ['', 'o', '', 'o', 'o', 'x', 'x', 'x', 'x']]\n",
      "winners:  [[0, 0, 1], [0, 0, 1], [0, 0, 1], [0, 0, 1]]\n",
      "942\n",
      "942\n"
     ]
    }
   ],
   "source": [
    "boards, winners = generate_tic_tac_toe_configs()\n",
    "print(\"boards: \", boards[1:5])\n",
    "print(\"winners: \",  winners[1:5])\n",
    "print(len(boards))\n",
    "print(len(winners))"
   ]
  },
  {
   "cell_type": "code",
   "execution_count": 4,
   "id": "1db367dd",
   "metadata": {},
   "outputs": [],
   "source": [
    "import numpy as np\n",
    "from qiskit import *"
   ]
  },
  {
   "cell_type": "code",
   "execution_count": 5,
   "id": "e026b601",
   "metadata": {},
   "outputs": [],
   "source": [
    "# tic_tac_toe_field = ['x','x','o','','o','x','o','','']\n",
    "def encode_data(tic_tac_toe_field, circuit):\n",
    "    data_g = [1 if entry == 'x' else -1 if entry == 'o' else 0 for entry in tic_tac_toe_field ]\n",
    "    for entry, index in zip(data_g, range(len(data_g))):\n",
    "        circuit.rx(entry * 2 * np.pi / 3, index)\n",
    "                   \n",
    "    return circuit"
   ]
  },
  {
   "cell_type": "code",
   "execution_count": null,
   "id": "8a68f91e",
   "metadata": {},
   "outputs": [],
   "source": []
  },
  {
   "cell_type": "code",
   "execution_count": 6,
   "id": "193bbf10",
   "metadata": {},
   "outputs": [],
   "source": [
    "def add_single_qubit_gates(params, circuit):\n",
    "    red_qubits = [0,1,5]\n",
    "    blu_qubits = [2,3]\n",
    "    yellow_qubits = [4,6]\n",
    "    green_qubits = [7, 8]\n",
    "    # param=[red, blu, yellow, green]\n",
    "    # red\n",
    "    for i in red_qubits:\n",
    "        circuit.rx(params[0],i)\n",
    "        circuit.ry(params[1],i)\n",
    "    # blu\n",
    "    for i in blu_qubits:\n",
    "        circuit.rx(params[2],i)\n",
    "        circuit.ry(params[3],i)\n",
    "    # yellow \n",
    "    for i in yellow_qubits:\n",
    "        circuit.rx(params[4],i)\n",
    "        circuit.ry(params[5],i)\n",
    "    # green\n",
    "    for i in green_qubits:\n",
    "        circuit.rx(params[6],i)\n",
    "        circuit.ry(params[7],i)\n",
    "    return circuit"
   ]
  },
  {
   "cell_type": "code",
   "execution_count": 7,
   "id": "22f43601",
   "metadata": {},
   "outputs": [],
   "source": [
    "def add_two_qubit_gates(params, circuit):\n",
    "    red_qubits = [0,1,5]\n",
    "    blu_qubits = [2,3]\n",
    "    yellow_qubits = [4,6]\n",
    "    green_qubits = [7, 8]\n",
    "    # param=[red, blu, yellow, green]\n",
    "    # red\n",
    "    circuit.cry(params[0],0,3)\n",
    "    circuit.cry(params[0],1,4)\n",
    "    # blu\n",
    "    circuit.cry(params[1],2,5)\n",
    "    circuit.cry(params[1],3,4)\n",
    "    # yellow\n",
    "    circuit.cry(params[2],6,3)\n",
    "    # green \n",
    "    circuit.cry(params[3],7,4)\n",
    "    circuit.cry(params[3],7,6)\n",
    "    circuit.cry(params[3],8,5)\n",
    "    \n",
    "    return circuit"
   ]
  },
  {
   "cell_type": "code",
   "execution_count": 8,
   "id": "0246fb54",
   "metadata": {},
   "outputs": [],
   "source": [
    "def predict(data, params):\n",
    "    circ = QuantumCircuit(9)\n",
    "    circ.params = params\n",
    "    encode_data(data, circ)\n",
    "    circ.barrier()\n",
    "    add_single_qubit_gates(params[0:8], circ)\n",
    "    circ.barrier()\n",
    "    add_two_qubit_gates(params[8:12], circ)\n",
    "\n",
    "    estimator = Estimator()\n",
    "    circuits = (\n",
    "        circ,\n",
    "        circ,\n",
    "        circ\n",
    "    )\n",
    "    observables = (\n",
    "        SparsePauliOp(\"ZIZIIIZIZ\") / 4.0,\n",
    "        SparsePauliOp(\"IZIZIZIZI\") / 4.0,\n",
    "        SparsePauliOp(\"IIIIZIIII\")\n",
    "    )\n",
    "\n",
    "    job = estimator.run(circuits, observables)\n",
    "    result = job.result()\n",
    "    results = result.values.tolist()\n",
    "    exp_val_o = results[0]\n",
    "    exp_val_draw = results[2]\n",
    "    exp_val_x = results[1]\n",
    "\n",
    "    return [exp_val_o, exp_val_draw, exp_val_x]\n",
    "\n",
    "# Define the loss function\n",
    "def l2_loss(output, target):\n",
    "    output, target = np.array(output), np.array(target)\n",
    "    return np.sum(np.abs(output - target)**2)"
   ]
  },
  {
   "cell_type": "code",
   "execution_count": 9,
   "id": "a0921560",
   "metadata": {},
   "outputs": [
    {
     "name": "stdout",
     "output_type": "stream",
     "text": [
      "Initial parameters: [5.05514012 0.72909074 2.35019614 3.03368527 2.81679371 1.49307648\n",
      " 1.23801128 3.19115648 5.08149061 5.89247446 1.76557578 2.89122655]\n"
     ]
    }
   ],
   "source": [
    "# Define the optimizer\n",
    "class OptimizerLog:\n",
    "    \"\"\"Log to store optimizer's intermediate results\"\"\"\n",
    "    def __init__(self):\n",
    "        self.evaluations = []\n",
    "        self.parameters = []\n",
    "        self.costs = []\n",
    "        \n",
    "    def update(self, evaluation, parameter, cost, _stepsize, _accept):\n",
    "        self.evaluations.append(evaluation)\n",
    "        self.parameters.append(parameter)\n",
    "        self.costs.append(cost)\n",
    "from qiskit.algorithms.optimizers import SPSA\n",
    "\n",
    "\n",
    "# Define the cost function to be minimized by the optimizer\n",
    "def cost_function(params, data, labels):\n",
    "    y = labels\n",
    "    # TODO: Calculate the cost and return them\n",
    "    cost = 0\n",
    "    \n",
    "    for i in range(len(data)):\n",
    "        output = predict(data[i],params)\n",
    "        output = np.abs(output)\n",
    "        #pos = np.argmax(np.abs(output))\n",
    "        #output = np.zeros(3)\n",
    "        #output[pos] = 1\n",
    "        cost += l2_loss(output, y[i])\n",
    "    return cost/len(data)\n",
    "\n",
    "# Initialize the parameters\n",
    "params = np.random.rand(12)*2*np.pi\n",
    "\n",
    "# Train the circuit\n",
    "print('Initial parameters:', params)\n",
    "\n",
    "\n",
    "# Check the qiskit docs to figure out how to start an optimizer"
   ]
  },
  {
   "cell_type": "code",
   "execution_count": 10,
   "id": "b6dba618",
   "metadata": {},
   "outputs": [
    {
     "name": "stdout",
     "output_type": "stream",
     "text": [
      "Example train data:  ['' 'o' 'o' 'o' '' 'x' 'x' 'x' 'x'] [0 0 1]\n"
     ]
    }
   ],
   "source": [
    "x = boards\n",
    "y = winners\n",
    "\n",
    "# shuffle the indices\n",
    "shuffle_indices = np.random.permutation(len(x))\n",
    "train_size = int(len(x) * 0.7)\n",
    "\n",
    "# split the indices into training and testing sets\n",
    "train_indices = np.array(shuffle_indices[:train_size])\n",
    "test_indices = np.array(shuffle_indices[train_size:])\n",
    "\n",
    "# create the training and testing sets\n",
    "x_train, y_train = np.take(x, train_indices, axis=0), np.take(y, train_indices, axis=0)\n",
    "x_test, y_test = np.take(x, test_indices, axis=0), np.take(y, test_indices, axis=0)\n",
    "\n",
    "print(\"Example train data: \", x_train[17], y_train[17])"
   ]
  },
  {
   "cell_type": "code",
   "execution_count": 12,
   "id": "df2c1853",
   "metadata": {},
   "outputs": [
    {
     "data": {
      "image/png": "[encoded data removed]",
      "text/plain": [
       "<Figure size 640x480 with 1 Axes>"
      ]
     },
     "metadata": {},
     "output_type": "display_data"
    }
   ],
   "source": [
    "from qiskit.quantum_info import SparsePauliOp\n",
    "from qiskit.primitives import Estimator\n",
    "\n",
    "estimator = Estimator()\n",
    "log = OptimizerLog()\n",
    "optimizer = SPSA(maxiter=20, callback=log.update)\n",
    "def objective_function(variational):\n",
    "    \"\"\"Cost function of circuit parameters on training data.\n",
    "    The optimizer will attempt to minimize this.\"\"\"\n",
    "    return cost_function(variational,x_train, y_train)\n",
    "result = optimizer.minimize(fun=objective_function,x0= params)\n",
    "opt_var = result.x\n",
    "opt_val = result.fun\n",
    "import matplotlib.pyplot as plt\n",
    "fig = plt.figure()\n",
    "plt.plot(log.evaluations, log.costs)\n",
    "plt.xlabel('Steps')\n",
    "plt.ylabel('Cost')\n",
    "plt.show()"
   ]
  },
  {
   "cell_type": "code",
   "execution_count": 13,
   "id": "db1d999f",
   "metadata": {},
   "outputs": [],
   "source": [
    "preds = []\n",
    "for i in range(len(x_test)):\n",
    "    preds.append(predict(x_test[i],opt_var))"
   ]
  },
  {
   "cell_type": "code",
   "execution_count": 14,
   "id": "97abd4ff",
   "metadata": {},
   "outputs": [],
   "source": [
    "preds_1 =[]\n",
    "y_test1 = []\n",
    "for i in range(len(preds)):\n",
    "    pos = np.argmax(preds[i])\n",
    "    preds[i] = list(-1*np.ones(3))\n",
    "    preds[i][pos] = 1\n",
    "    preds_1.append(pos)\n",
    "    pos1 = np.argmax(y_test[i])\n",
    "    y_test1.append(pos1)\n",
    "preds = np.array(preds)"
   ]
  },
  {
   "cell_type": "code",
   "execution_count": 15,
   "id": "c44dbc3e",
   "metadata": {},
   "outputs": [
    {
     "data": {
      "text/plain": [
       "0.33267130368778547"
      ]
     },
     "execution_count": 15,
     "metadata": {},
     "output_type": "execute_result"
    }
   ],
   "source": [
    "from sklearn.metrics import f1_score, accuracy_score, confusion_matrix\n",
    "f1_score(y_test1,preds_1, average='weighted')\n"
   ]
  },
  {
   "cell_type": "code",
   "execution_count": 16,
   "id": "7345a54a",
   "metadata": {},
   "outputs": [
    {
     "data": {
      "text/plain": [
       "array([[22, 55, 21],\n",
       "       [ 0,  0,  0],\n",
       "       [58, 79, 48]], dtype=int64)"
      ]
     },
     "execution_count": 16,
     "metadata": {},
     "output_type": "execute_result"
    }
   ],
   "source": [
    "confusion_matrix(y_test1,preds_1)"
   ]
  },
  {
   "cell_type": "code",
   "execution_count": null,
   "id": "ead9bf58",
   "metadata": {},
   "outputs": [],
   "source": []
  }
 ],
 "metadata": {
  "kernelspec": {
   "display_name": "Python 3 (ipykernel)",
   "language": "python",
   "name": "python3"
  },
  "language_info": {
   "codemirror_mode": {
    "name": "ipython",
    "version": 3
   },
   "file_extension": ".py",
   "mimetype": "text/x-python",
   "name": "python",
   "nbconvert_exporter": "python",
   "pygments_lexer": "ipython3",
   "version": "3.9.5"
  }
 },
 "nbformat": 4,
 "nbformat_minor": 5
}
